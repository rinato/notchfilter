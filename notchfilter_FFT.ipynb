{
  "nbformat": 4,
  "nbformat_minor": 0,
  "metadata": {
    "colab": {
      "name": "notchfilter FFT.ipynb",
      "provenance": [],
      "authorship_tag": "ABX9TyMmxiSfsZCLN4BOvRfOBEJo",
      "include_colab_link": true
    },
    "kernelspec": {
      "name": "python3",
      "display_name": "Python 3"
    },
    "language_info": {
      "name": "python"
    }
  },
  "cells": [
    {
      "cell_type": "markdown",
      "metadata": {
        "id": "view-in-github",
        "colab_type": "text"
      },
      "source": [
        "<a href=\"https://colab.research.google.com/github/rinato/notchfilter/blob/main/notchfilter_FFT.ipynb\" target=\"_parent\"><img src=\"https://colab.research.google.com/assets/colab-badge.svg\" alt=\"Open In Colab\"/></a>"
      ]
    },
    {
      "cell_type": "code",
      "metadata": {
        "id": "fEdv9EDYKMvl"
      },
      "source": [
        "import pandas as pd\n",
        "import numpy as np\n",
        "import matplotlib.pyplot as plt\n",
        "import scipy.fftpack as sf"
      ],
      "execution_count": 31,
      "outputs": []
    },
    {
      "cell_type": "code",
      "metadata": {
        "colab": {
          "base_uri": "https://localhost:8080/"
        },
        "id": "cPbV_VE9LfxR",
        "outputId": "fd7a761a-36dc-4823-98b4-25f95fde5287"
      },
      "source": [
        "print('colab test')\n",
        "plt.rcParams['figure.figsize'] = [100,100]"
      ],
      "execution_count": 51,
      "outputs": [
        {
          "output_type": "stream",
          "text": [
            "colab test\n"
          ],
          "name": "stdout"
        }
      ]
    },
    {
      "cell_type": "code",
      "metadata": {
        "colab": {
          "base_uri": "https://localhost:8080/",
          "height": 205
        },
        "id": "nuscc8HZKdDf",
        "outputId": "3304fa82-6592-4169-8b78-e0832d2deacb"
      },
      "source": [
        "\n",
        "path = 'https://raw.githubusercontent.com/rinato/notchfilter/main/20210615_152717.csv'\n",
        "data = pd.read_csv(path)\n",
        "data.head()"
      ],
      "execution_count": 33,
      "outputs": [
        {
          "output_type": "execute_result",
          "data": {
            "text/html": [
              "<div>\n",
              "<style scoped>\n",
              "    .dataframe tbody tr th:only-of-type {\n",
              "        vertical-align: middle;\n",
              "    }\n",
              "\n",
              "    .dataframe tbody tr th {\n",
              "        vertical-align: top;\n",
              "    }\n",
              "\n",
              "    .dataframe thead th {\n",
              "        text-align: right;\n",
              "    }\n",
              "</style>\n",
              "<table border=\"1\" class=\"dataframe\">\n",
              "  <thead>\n",
              "    <tr style=\"text-align: right;\">\n",
              "      <th></th>\n",
              "      <th>volt R</th>\n",
              "      <th>volt S</th>\n",
              "      <th>volt T</th>\n",
              "      <th>amp R</th>\n",
              "      <th>amp S</th>\n",
              "      <th>amp T</th>\n",
              "      <th>time</th>\n",
              "    </tr>\n",
              "  </thead>\n",
              "  <tbody>\n",
              "    <tr>\n",
              "      <th>0</th>\n",
              "      <td>278.340187</td>\n",
              "      <td>-48.437051</td>\n",
              "      <td>-229.956837</td>\n",
              "      <td>0.488254</td>\n",
              "      <td>-1.810655</td>\n",
              "      <td>1.281701</td>\n",
              "      <td>0.000000</td>\n",
              "    </tr>\n",
              "    <tr>\n",
              "      <th>1</th>\n",
              "      <td>275.231724</td>\n",
              "      <td>-41.909824</td>\n",
              "      <td>-233.272054</td>\n",
              "      <td>0.518787</td>\n",
              "      <td>-1.820821</td>\n",
              "      <td>1.251202</td>\n",
              "      <td>0.000061</td>\n",
              "    </tr>\n",
              "    <tr>\n",
              "      <th>2</th>\n",
              "      <td>272.123602</td>\n",
              "      <td>-35.278710</td>\n",
              "      <td>-236.898594</td>\n",
              "      <td>0.549286</td>\n",
              "      <td>-1.820821</td>\n",
              "      <td>1.230836</td>\n",
              "      <td>0.000122</td>\n",
              "    </tr>\n",
              "    <tr>\n",
              "      <th>3</th>\n",
              "      <td>269.119027</td>\n",
              "      <td>-28.440841</td>\n",
              "      <td>-240.628340</td>\n",
              "      <td>0.579819</td>\n",
              "      <td>-1.831021</td>\n",
              "      <td>1.200337</td>\n",
              "      <td>0.000183</td>\n",
              "    </tr>\n",
              "    <tr>\n",
              "      <th>4</th>\n",
              "      <td>266.218000</td>\n",
              "      <td>-21.499084</td>\n",
              "      <td>-244.669069</td>\n",
              "      <td>0.610351</td>\n",
              "      <td>-1.831021</td>\n",
              "      <td>1.179971</td>\n",
              "      <td>0.000244</td>\n",
              "    </tr>\n",
              "  </tbody>\n",
              "</table>\n",
              "</div>"
            ],
            "text/plain": [
              "       volt R     volt S      volt T     amp R     amp S     amp T      time\n",
              "0  278.340187 -48.437051 -229.956837  0.488254 -1.810655  1.281701  0.000000\n",
              "1  275.231724 -41.909824 -233.272054  0.518787 -1.820821  1.251202  0.000061\n",
              "2  272.123602 -35.278710 -236.898594  0.549286 -1.820821  1.230836  0.000122\n",
              "3  269.119027 -28.440841 -240.628340  0.579819 -1.831021  1.200337  0.000183\n",
              "4  266.218000 -21.499084 -244.669069  0.610351 -1.831021  1.179971  0.000244"
            ]
          },
          "metadata": {
            "tags": []
          },
          "execution_count": 33
        }
      ]
    },
    {
      "cell_type": "code",
      "metadata": {
        "colab": {
          "base_uri": "https://localhost:8080/"
        },
        "id": "MBWQYv9LK4e3",
        "outputId": "e83d3b2b-a279-4a29-85f2-5c87bcd25d82"
      },
      "source": [
        "voltR =  data[['volt R']]\n",
        "voltS =  data[['volt S']]\n",
        "voltT =  data[['volt T']]\n",
        "ampR =  data[['amp R']]\n",
        "ampS =  data[['amp S']]\n",
        "ampT =  data[['amp T']]\n",
        "time = data[['time']]\n",
        "print(voltR.shape, voltS.shape, voltT.shape, ampR.shape, ampS.shape, ampT.shape, time.shape)"
      ],
      "execution_count": 66,
      "outputs": [
        {
          "output_type": "stream",
          "text": [
            "(65536, 1) (65536, 1) (65536, 1) (65536, 1) (65536, 1) (65536, 1) (65536, 1)\n"
          ],
          "name": "stdout"
        }
      ]
    },
    {
      "cell_type": "code",
      "metadata": {
        "id": "WPBmaoyOOaEP"
      },
      "source": [
        "plt.figure(1)\n",
        "plt.subplot(2,1,1)\n",
        "plt.plot(time,ampR)\n",
        "plt.title('amp R sin wave')\n",
        "plt.xlabel('Time(s)'); plt.ylabel('Amplitude')"
      ],
      "execution_count": null,
      "outputs": []
    },
    {
      "cell_type": "code",
      "metadata": {
        "id": "_bM5fVZXPDGx"
      },
      "source": [
        "fs = 16384\n",
        "x_f = abs(sf.fft(ampR))\n",
        "l = np.size(ampR)\n",
        "fr = ((fs/2)*np.linspace(0, 1, int(l/2)))\n",
        "xl_m = (2/l)*abs(x_f[0:np.size(fr)]);\n",
        "plt.subplot(2,1,2)\n",
        "plt.plot(fr,20*np.log10(xl_m));\n",
        "plt.title('FFT Spectrum')\n",
        "plt.xlabel('Frequency(Hz)')\n",
        "plt.ylabel('Magnitude')\n"
      ],
      "execution_count": null,
      "outputs": []
    },
    {
      "cell_type": "code",
      "metadata": {
        "id": "k2J2LRldP0nw"
      },
      "source": [
        ""
      ],
      "execution_count": null,
      "outputs": []
    },
    {
      "cell_type": "code",
      "metadata": {
        "id": "G6sw2DSnUtTs"
      },
      "source": [
        ""
      ],
      "execution_count": null,
      "outputs": []
    }
  ]
}